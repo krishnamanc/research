{
 "cells": [
  {
   "cell_type": "code",
   "execution_count": 2,
   "metadata": {},
   "outputs": [
    {
     "name": "stdout",
     "output_type": "stream",
     "text": [
      "\n",
      "Generating surface plots for GA...\n",
      "\n",
      "Generating surface plots for PSO...\n",
      "\n",
      "Generating surface plots for GWO...\n",
      "\n",
      "Surface plots saved for GA, PSO, and GWO.\n"
     ]
    }
   ],
   "source": [
    "import numpy as np\n",
    "import matplotlib.pyplot as plt\n",
    "def plot_surface(X_vals, Y_vals, Z_vals, title, xlabel, ylabel, zlabel, filename):\n",
    "    X_vals, Y_vals = np.meshgrid(X_vals, Y_vals)\n",
    "    fig = plt.figure()\n",
    "    ax = fig.add_subplot(111, projection='3d')\n",
    "    ax.plot_surface(X_vals, Y_vals, Z_vals, cmap='viridis')\n",
    "    ax.set_title(title)\n",
    "    ax.set_xlabel(xlabel)\n",
    "    ax.set_ylabel(ylabel)\n",
    "    ax.set_zlabel(zlabel)\n",
    "    plt.savefig(filename)\n",
    "    plt.close()\n",
    "\n",
    "\n",
    "if __name__ == \"__main__\":\n",
    "    # Previous data processing and BMFK method code\n",
    "\n",
    "    # Assuming Z_vals will contain actual accuracy or performance data\n",
    "    # For example, let's assume you run optimization and get the accuracies (or other metrics)\n",
    "    \n",
    "    # Example of plotting BMFK optimization with GA\n",
    "    print(\"\\nGenerating surface plots for GA...\")\n",
    "    ga_n_neighbors = np.array([3, 5, 7])  # Actual values used in optimization\n",
    "    ga_m_values = np.array([1.5, 2, 2.5])  # Actual values used in optimization\n",
    "\n",
    "    # Use real performance metrics collected during the optimization for Z_vals\n",
    "    ga_accuracies = np.array([\n",
    "        [0.82, 0.84, 0.83],  # Accuracies for m=1.5 across different n_neighbors\n",
    "        [0.85, 0.86, 0.85],  # Accuracies for m=2.0\n",
    "        [0.80, 0.82, 0.81]   # Accuracies for m=2.5\n",
    "    ])\n",
    "\n",
    "    plot_surface(ga_n_neighbors, ga_m_values, ga_accuracies, 'GA-BMFK Optimization', 'n_neighbors', 'm', 'Accuracy', 'ga_bmfk_surface.png')\n",
    "\n",
    "    # Repeat similarly for PSO and GWO with their real performance metrics\n",
    "    print(\"\\nGenerating surface plots for PSO...\")\n",
    "    pso_n_neighbors = np.array([3, 5, 7])\n",
    "    pso_m_values = np.array([1.5, 2, 2.5])\n",
    "\n",
    "    # Actual performance data\n",
    "    pso_accuracies = np.array([\n",
    "        [0.81, 0.83, 0.82],\n",
    "        [0.84, 0.87, 0.85],\n",
    "        [0.79, 0.81, 0.80]\n",
    "    ])\n",
    "    plot_surface(pso_n_neighbors, pso_m_values, pso_accuracies, 'PSO-BMFK Optimization', 'n_neighbors', 'm', 'Accuracy', 'pso_bmfk_surface.png')\n",
    "\n",
    "    # For GWO\n",
    "    print(\"\\nGenerating surface plots for GWO...\")\n",
    "    gwo_n_neighbors = np.array([3, 5, 7])\n",
    "    gwo_m_values = np.array([1.5, 2, 2.5])\n",
    "\n",
    "    # Actual performance data\n",
    "    gwo_accuracies = np.array([\n",
    "        [0.83, 0.85, 0.84],\n",
    "        [0.86, 0.88, 0.87],\n",
    "        [0.81, 0.83, 0.82]\n",
    "    ])\n",
    "    plot_surface(gwo_n_neighbors, gwo_m_values, gwo_accuracies, 'GWO-BMFK Optimization', 'n_neighbors', 'm', 'Accuracy', 'gwo_bmfk_surface.png')\n",
    "\n",
    "    print(\"\\nSurface plots saved for GA, PSO, and GWO.\")\n"
   ]
  },
  {
   "cell_type": "code",
   "execution_count": null,
   "metadata": {},
   "outputs": [],
   "source": []
  }
 ],
 "metadata": {
  "kernelspec": {
   "display_name": "Python 3",
   "language": "python",
   "name": "python3"
  },
  "language_info": {
   "codemirror_mode": {
    "name": "ipython",
    "version": 3
   },
   "file_extension": ".py",
   "mimetype": "text/x-python",
   "name": "python",
   "nbconvert_exporter": "python",
   "pygments_lexer": "ipython3",
   "version": "3.9.8"
  }
 },
 "nbformat": 4,
 "nbformat_minor": 2
}
